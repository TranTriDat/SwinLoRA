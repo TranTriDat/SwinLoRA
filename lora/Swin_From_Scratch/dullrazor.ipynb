{
 "cells": [
  {
   "cell_type": "code",
   "execution_count": 1,
   "id": "0de8d5c4-b2e3-47cb-9fe6-30c5f69f2e53",
   "metadata": {
    "tags": []
   },
   "outputs": [],
   "source": [
    "import os\n",
    "import cv2"
   ]
  },
  {
   "cell_type": "code",
   "execution_count": 30,
   "id": "d5fba3ff-7485-4bfa-af54-bbf422aa51be",
   "metadata": {
    "tags": []
   },
   "outputs": [],
   "source": [
    "# img_path = \"../ISIC2019_train/Image/MEL/ISIC_0069864.jpg\"\n",
    "\n",
    "# img = cv2.imread(img_path, cv2.IMREAD_COLOR)\n",
    "\n"
   ]
  },
  {
   "cell_type": "code",
   "execution_count": 2,
   "id": "cc60c74c-ec98-4f9a-91d5-5e670d1f9511",
   "metadata": {
    "tags": []
   },
   "outputs": [],
   "source": [
    "def dull_razor(img):\n",
    "    grayScale = cv2.cvtColor(img, cv2.COLOR_RGB2GRAY )\n",
    "    #Black hat filter\n",
    "    kernel = cv2.getStructuringElement(1,(9,9)) \n",
    "    blackhat = cv2.morphologyEx(grayScale, cv2.MORPH_BLACKHAT, kernel)\n",
    "    #Gaussian filter\n",
    "    bhg= cv2.GaussianBlur(blackhat,(3,3),cv2.BORDER_DEFAULT)\n",
    "    #Binary thresholding (MASK)\n",
    "    ret,mask = cv2.threshold(bhg,10,255,cv2.THRESH_BINARY)\n",
    "\n",
    "\n",
    "    #Replace pixels of the mask\n",
    "    dst = cv2.inpaint(img,mask,6,cv2.INPAINT_TELEA)  \n",
    "    \n",
    "    return dst"
   ]
  },
  {
   "cell_type": "code",
   "execution_count": 31,
   "id": "1c6c550a-432d-4aa8-b705-2cd753ba3c5a",
   "metadata": {
    "tags": []
   },
   "outputs": [
    {
     "data": {
      "text/plain": [
       "True"
      ]
     },
     "execution_count": 31,
     "metadata": {},
     "output_type": "execute_result"
    }
   ],
   "source": [
    "\n",
    "# new_img = dull_razor(img)\n",
    "# file_name = img_path.split(\"/\")[-1]\n",
    "# new_file = os.path.join(new_path, file_name)\n",
    "\n",
    "# cv2.imwrite(new_file, new_img)"
   ]
  },
  {
   "cell_type": "code",
   "execution_count": 3,
   "id": "a1fc3fe5-a323-49ba-9f08-3cf9ae1c0c22",
   "metadata": {
    "tags": []
   },
   "outputs": [
    {
     "name": "stdout",
     "output_type": "stream",
     "text": [
      "MEL\n",
      "NV\n",
      "SCC\n",
      "BCC\n",
      "AK\n",
      "VASC\n",
      "DF\n",
      "BKL\n",
      "done\n"
     ]
    }
   ],
   "source": [
    "new_path = \"../ISIC2019_valDR/\"\n",
    "old_path = \"../ISIC2019_val\"\n",
    "\n",
    "for i in os.listdir(old_path):\n",
    "    class_path = os.path.join(old_path, i)\n",
    "    print(i)\n",
    "    for j in os.listdir(class_path):\n",
    "        image_path = os.path.join(class_path, j)\n",
    "        image = cv2.imread(image_path, cv2.IMREAD_COLOR)\n",
    "        \n",
    "        image_dullrazor = dull_razor(image)\n",
    "        \n",
    "        new_img_path = new_path + i\n",
    "        new_img = os.path.join(new_img_path, j)\n",
    "        cv2.imwrite(new_img, image_dullrazor)\n",
    "\n",
    "print(\"done\")"
   ]
  },
  {
   "cell_type": "code",
   "execution_count": null,
   "id": "e3f57c27-06a4-4e5b-9226-e2d1bb7cd097",
   "metadata": {},
   "outputs": [],
   "source": []
  }
 ],
 "metadata": {
  "kernelspec": {
   "display_name": "Python 3 (ipykernel)",
   "language": "python",
   "name": "python3"
  },
  "language_info": {
   "codemirror_mode": {
    "name": "ipython",
    "version": 3
   },
   "file_extension": ".py",
   "mimetype": "text/x-python",
   "name": "python",
   "nbconvert_exporter": "python",
   "pygments_lexer": "ipython3",
   "version": "3.9.18"
  }
 },
 "nbformat": 4,
 "nbformat_minor": 5
}
