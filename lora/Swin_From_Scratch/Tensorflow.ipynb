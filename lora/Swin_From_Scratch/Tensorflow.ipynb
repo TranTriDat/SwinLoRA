{
 "cells": [
  {
   "cell_type": "markdown",
   "id": "4f6267fe-530e-4b26-b1ca-860193f9fc37",
   "metadata": {},
   "source": [
    "# Import "
   ]
  },
  {
   "cell_type": "code",
   "execution_count": 1,
   "id": "9338da0a-f5a1-4573-8cf3-8e21e86188a3",
   "metadata": {
    "tags": []
   },
   "outputs": [],
   "source": [
    "import warnings\n",
    "warnings.filterwarnings(\"ignore\")"
   ]
  },
  {
   "cell_type": "code",
   "execution_count": 12,
   "id": "426b8012-dba4-4d03-a8f4-cfdf43e7fb43",
   "metadata": {
    "scrolled": true
   },
   "outputs": [],
   "source": [
    "import time\n",
    "from time import time\n",
    "import numpy as np\n",
    "import pandas as pd\n",
    "from tqdm import tqdm\n",
    "import os\n",
    "import matplotlib.pyplot as plt\n",
    "import matplotlib.cm as cm\n",
    "\n",
    "import torch\n",
    "from torch import  nn, optim\n",
    "import torchvision.models as models\n",
    "from torchvision import transforms, datasets\n",
    "from torchvision.models import swin_v2_t, swin_v2_b, efficientnet_b4\n",
    "from torch.utils.data import DataLoader\n",
    "\n",
    "from torch.cuda.amp.autocast_mode import autocast\n",
    "from torch.cuda.amp.grad_scaler import GradScaler\n",
    "\n",
    "from torcheval.metrics.aggregation.auc import AUC\n",
    "from torcheval.metrics.functional.aggregation.auc import auc\n",
    "from torcheval.metrics import MulticlassAUROC, MulticlassAccuracy, Mean\n",
    "\n",
    "from sklearn import metrics\n",
    "from sklearn.metrics import roc_curve\n",
    "from sklearn.metrics import roc_auc_score\n",
    "from sklearn.metrics import confusion_matrix\n",
    "from sklearn.preprocessing import MultiLabelBinarizer\n",
    "\n",
    "import loralib\n",
    "\n",
    "from utils import save_model, save_plots, SaveBestModel"
   ]
  },
  {
   "cell_type": "markdown",
   "id": "5c3c773b-6ac8-4182-a016-d118e84fdcd3",
   "metadata": {},
   "source": [
    "# Working folders"
   ]
  },
  {
   "cell_type": "code",
   "execution_count": 3,
   "id": "3b060469-6005-4fea-9500-8ae5654b8c9a",
   "metadata": {
    "tags": []
   },
   "outputs": [
    {
     "name": "stdout",
     "output_type": "stream",
     "text": [
      "/home/user/Dat/Vit/lora/Swin_From_Scratch/../ISIC2019_train/Image_DullRazor\n",
      "/home/user/Dat/Vit/lora/Swin_From_Scratch/../ISIC2019_valDR\n"
     ]
    }
   ],
   "source": [
    "# Get the current working directory\n",
    "current_directory = os.getcwd()\n",
    "\n",
    "# Concatenate the current directory with additional directories\n",
    "# train_dir = os.path.join(current_directory, \"../ISIC2019_train/Image\")\n",
    "train_dir = os.path.join(current_directory, \"../ISIC2019_train/Image_DullRazor\")\n",
    "\n",
    "val_dir = os.path.join(current_directory, \"../ISIC2019_valDR\")\n",
    "print(train_dir)\n",
    "print(val_dir)"
   ]
  },
  {
   "cell_type": "code",
   "execution_count": 4,
   "id": "453340be-d9b4-4a36-a15c-7da142e1adf7",
   "metadata": {
    "tags": []
   },
   "outputs": [
    {
     "name": "stdout",
     "output_type": "stream",
     "text": [
      "20264\n"
     ]
    },
    {
     "data": {
      "text/plain": [
       "12"
      ]
     },
     "execution_count": 4,
     "metadata": {},
     "output_type": "execute_result"
    }
   ],
   "source": [
    "NUM_WORKERS = os.cpu_count()\n",
    "total_images = 0\n",
    "for i in os.listdir(train_dir):\n",
    "    tmp = os.path.join(train_dir, i)\n",
    "    for j in os.listdir(tmp):\n",
    "        total_images += 1\n",
    "print(total_images)\n",
    "NUM_WORKERS"
   ]
  },
  {
   "cell_type": "markdown",
   "id": "796249b9-8e3d-4b09-aa55-be83dab7375a",
   "metadata": {},
   "source": [
    "# Datasets"
   ]
  },
  {
   "cell_type": "code",
   "execution_count": 5,
   "id": "8d79c028-9eda-4d38-9055-0d9f12701ff1",
   "metadata": {
    "tags": []
   },
   "outputs": [],
   "source": [
    "# IMG_SIZE = 256\n",
    "IMG_SIZE = 32\n",
    "\n",
    "\n",
    "def create_dataloaders(\n",
    "    train_dir: str, \n",
    "    val_dir: str,\n",
    "    # transform: transforms.Compose, \n",
    "    batch_size: int, \n",
    "    num_workers: int=NUM_WORKERS\n",
    "):\n",
    "    \n",
    "    train_transform = transforms.Compose([\n",
    "        transforms.Resize((IMG_SIZE, IMG_SIZE)),\n",
    "#         transforms.CenterCrop((IMG_SIZE, IMG_SIZE)),\n",
    "        \n",
    "#         transforms.RandomHorizontalFlip(p=0.5),\n",
    "#         transforms.RandomRotation(35),\n",
    "        # transforms.RandomAdjustSharpness(sharpness_factor=2, p=0.5),\n",
    "        transforms.ToTensor(),\n",
    "        # transforms.Normalize(mean=[0.485, 0.456, 0.406], \n",
    "        #                      std=[0.229, 0.224, 0.225])\n",
    "        ])    \n",
    "    \n",
    "    valid_transform = transforms.Compose([\n",
    "        transforms.Resize((IMG_SIZE, IMG_SIZE)),\n",
    "        \n",
    "        # transforms.RandomAdjustSharpness(sharpness_factor=2, p=0.5),\n",
    "        \n",
    "        transforms.ToTensor(),\n",
    "        # transforms.Normalize(mean=[0.485, 0.456, 0.406], \n",
    "        #                      std=[0.229, 0.224, 0.225])\n",
    "        ]) \n",
    "\n",
    "    # Use ImageFolder to create dataset(s)\n",
    "    train_data = datasets.ImageFolder(train_dir, transform=train_transform)\n",
    "    val_data = datasets.ImageFolder(val_dir, transform=valid_transform)\n",
    "    \n",
    "    # Get class names\n",
    "    class_names = train_data.classes\n",
    "\n",
    "    # Turn images into data loaders\n",
    "    train_dataloader = DataLoader(\n",
    "      train_data,\n",
    "      batch_size=batch_size,\n",
    "      shuffle=True,\n",
    "      num_workers=num_workers,\n",
    "      pin_memory=True,\n",
    "    )\n",
    "    val_dataloader = DataLoader(\n",
    "      val_data,\n",
    "      batch_size=batch_size,\n",
    "      shuffle=False,\n",
    "      num_workers=num_workers,\n",
    "      pin_memory=True,\n",
    "    )\n",
    "\n",
    "    return train_dataloader, val_dataloader, class_names"
   ]
  },
  {
   "cell_type": "code",
   "execution_count": 6,
   "id": "e4c464ef-2b6e-47ad-b70a-ec8e5d88f471",
   "metadata": {
    "tags": []
   },
   "outputs": [
    {
     "data": {
      "text/plain": [
       "(<torch.utils.data.dataloader.DataLoader at 0x7f7b081e7070>,\n",
       " <torch.utils.data.dataloader.DataLoader at 0x7f7a0adac8e0>,\n",
       " ['AK', 'BCC', 'BKL', 'DF', 'MEL', 'NV', 'SCC', 'VASC'])"
      ]
     },
     "execution_count": 6,
     "metadata": {},
     "output_type": "execute_result"
    }
   ],
   "source": [
    "BATCH_SIZE = 8\n",
    "\n",
    "# Create data loaders\n",
    "train_dataloader, val_dataloader, class_names = create_dataloaders(\n",
    "    train_dir=train_dir,\n",
    "    val_dir=val_dir,\n",
    "    # transform=manual_transforms, \n",
    "    batch_size=BATCH_SIZE,\n",
    "    num_workers=1\n",
    ")\n",
    "\n",
    "train_dataloader, val_dataloader, class_names"
   ]
  },
  {
   "cell_type": "markdown",
   "id": "f255d8c1-4f7b-4911-8052-2666e446ed1f",
   "metadata": {},
   "source": [
    "## class weight"
   ]
  },
  {
   "cell_type": "code",
   "execution_count": 7,
   "id": "382549c0-ecba-498f-a2e6-534a5fd630bb",
   "metadata": {
    "tags": []
   },
   "outputs": [
    {
     "name": "stdout",
     "output_type": "stream",
     "text": [
      "['AK', 'BCC', 'BKL', 'DF', 'MEL', 'NV', 'SCC', 'VASC']\n",
      "tensor([0.8210, 0.4920, 0.9750, 0.8690, 0.9660, 0.9900, 0.9910, 0.8960])\n"
     ]
    }
   ],
   "source": [
    "# Calculate class Weight\n",
    "class_weights = []\n",
    "for i in os.listdir(train_dir):\n",
    "    tmp = os.path.join(train_dir, i)\n",
    "    total_in_folder = 0\n",
    "    for j in os.listdir(tmp):\n",
    "        total_in_folder += 1\n",
    "    \n",
    "    tmp_weight = 1 - (total_in_folder / total_images)\n",
    "    class_weights.append(round(tmp_weight,3))\n",
    "class_weights = torch.Tensor(class_weights)\n",
    "print(class_names)\n",
    "print(class_weights)"
   ]
  },
  {
   "cell_type": "markdown",
   "id": "82c6cf9a-1eab-4c2b-8a2a-57161c8d816d",
   "metadata": {},
   "source": [
    "# check gpu"
   ]
  },
  {
   "cell_type": "code",
   "execution_count": 8,
   "id": "b1ab2533-bcc8-43ee-a372-57510299b24e",
   "metadata": {
    "tags": []
   },
   "outputs": [
    {
     "name": "stdout",
     "output_type": "stream",
     "text": [
      "8\n"
     ]
    },
    {
     "data": {
      "text/plain": [
       "device(type='cuda', index=0)"
      ]
     },
     "execution_count": 8,
     "metadata": {},
     "output_type": "execute_result"
    }
   ],
   "source": [
    "# Move the model to the GPU if available\n",
    "torch.cuda.empty_cache()\n",
    "\n",
    "device = torch.device(\"cuda:0\" if torch.cuda.is_available() else \"cpu\")\n",
    "print(len(class_names))\n",
    "device"
   ]
  },
  {
   "cell_type": "markdown",
   "id": "92fb635d-6d1a-4c5b-8499-62df88d4e413",
   "metadata": {},
   "source": [
    "# Init mode"
   ]
  },
  {
   "cell_type": "code",
   "execution_count": 9,
   "id": "a9c1086a-722e-4e6b-a298-6c4541c0c233",
   "metadata": {},
   "outputs": [
    {
     "name": "stdout",
     "output_type": "stream",
     "text": [
      "1024\n",
      "Sequential(\n",
      "  (0): Linear(in_features=1024, out_features=256, bias=True)\n",
      "  (1): ReLU()\n",
      "  (2): Linear(in_features=256, out_features=128, bias=True)\n",
      "  (3): ReLU()\n",
      "  (4): Linear(in_features=128, out_features=8, bias=True)\n",
      ")\n"
     ]
    }
   ],
   "source": [
    "# Assuming IMG_SIZE is defined\n",
    "# IMG_SIZE = 224  # Define according to your needs\n",
    "# IMG_SHAPE = (IMG_SIZE, IMG_SIZE, 3)\n",
    "\n",
    "# Example using ResNet for similarity with EfficientNet's usage in TensorFlow\n",
    "\n",
    "# model = swin_v2_b(weights='IMAGENET1K_V1', progress=True)\n",
    "model = swin_v2_b(progress=True)\n",
    "\n",
    "# model = efficientnet_b4(weights='IMAGENET1K_V1', progress=True)\n",
    "\n",
    "\n",
    "# for param in model.parameters(): #freeze model\n",
    "#     # param.requires_grad = False\n",
    "#     param.requires_grad = False\n",
    "    \n",
    "\n",
    "# model = nn.Sequential(*list(model.children())[:-2])  # Removing the fully connected layer & avgpool\n",
    "\n",
    "n_inputs = model.head.in_features\n",
    "print(n_inputs)\n",
    "\n",
    "model.head = nn.Sequential(\n",
    "    nn.Linear(n_inputs, 256),\n",
    "    # loralib.Linear(n_inputs,256,r=8),\n",
    "    nn.ReLU(),\n",
    "    \n",
    "    # nn.Linear(256, 512),\n",
    "    loralib.Linear(256,128,r=8),\n",
    "    nn.ReLU(),\n",
    "    \n",
    "    \n",
    "    nn.Linear(128, len(class_names)),\n",
    "    # loralib.Linear(128, len(class_names), r=64)\n",
    ")\n",
    "    \n",
    "# This sets requires_grad to False for all parameters\n",
    "# loralib.mark_only_lora_as_trainable(model)\n",
    "\n",
    "model = model.to(device)\n",
    "print(model.head)\n",
    "# print(model.classifier)\n",
    "\n",
    "# # Freeze all layers except the final classification layer\n",
    "# for name, param in model.named_parameters():\n",
    "#     if \"fc\" in name:  # Unfreeze the final classification layer\n",
    "#         param.requires_grad = True\n",
    "#     else:\n",
    "#         param.requires_grad = False"
   ]
  },
  {
   "cell_type": "code",
   "execution_count": 8,
   "id": "6310d094-a57b-4df9-92ea-b4baf7b06c59",
   "metadata": {
    "tags": []
   },
   "outputs": [],
   "source": [
    "# class CIFAR10Model(nn.Module):\n",
    "#     def __init__(self):\n",
    "#         super().__init__()\n",
    "#         self.conv1 = nn.Conv2d(3, 32, kernel_size=(3,3), stride=1, padding=1)\n",
    "#         self.act1 = nn.ReLU()\n",
    "#         self.drop1 = nn.Dropout(0.3)\n",
    " \n",
    "#         self.conv2 = nn.Conv2d(32, 32, kernel_size=(3,3), stride=1, padding=1)\n",
    "#         self.act2 = nn.ReLU()\n",
    "#         self.pool2 = nn.MaxPool2d(kernel_size=(2, 2))\n",
    " \n",
    "#         self.flat = nn.Flatten()\n",
    " \n",
    "#         self.fc3 = nn.Linear(8192, 512)\n",
    "#         self.act3 = nn.ReLU()\n",
    "#         self.drop3 = nn.Dropout(0.5)\n",
    " \n",
    "#         self.fc4 = nn.Linear(512, 8)\n",
    " \n",
    "#     def forward(self, x):\n",
    "#         # input 3x32x32, output 32x32x32\n",
    "#         x = self.act1(self.conv1(x))\n",
    "#         x = self.drop1(x)\n",
    "#         # input 32x32x32, output 32x32x32\n",
    "#         x = self.act2(self.conv2(x))\n",
    "#         # input 32x32x32, output 32x16x16\n",
    "#         x = self.pool2(x)\n",
    "#         # input 32x16x16, output 8192\n",
    "#         x = self.flat(x)\n",
    "#         # input 8192, output 512\n",
    "#         x = self.act3(self.fc3(x))\n",
    "#         x = self.drop3(x)\n",
    "#         # input 512, output 10\n",
    "#         x = self.fc4(x)\n",
    "#         return x\n",
    "    \n",
    "# model = CIFAR10Model()\n",
    "\n",
    "# model = model.to(device)"
   ]
  },
  {
   "cell_type": "code",
   "execution_count": 9,
   "id": "91098ed1-46f7-4b1f-a31a-4482b83ee853",
   "metadata": {
    "collapsed": true,
    "jupyter": {
     "outputs_hidden": true
    },
    "tags": []
   },
   "outputs": [
    {
     "name": "stdout",
     "output_type": "stream",
     "text": [
      "----------------------------------------------------------------\n",
      "        Layer (type)               Output Shape         Param #\n",
      "================================================================\n",
      "            Conv2d-1           [-1, 32, 32, 32]             896\n",
      "              ReLU-2           [-1, 32, 32, 32]               0\n",
      "           Dropout-3           [-1, 32, 32, 32]               0\n",
      "            Conv2d-4           [-1, 32, 32, 32]           9,248\n",
      "              ReLU-5           [-1, 32, 32, 32]               0\n",
      "         MaxPool2d-6           [-1, 32, 16, 16]               0\n",
      "           Flatten-7                 [-1, 8192]               0\n",
      "            Linear-8                  [-1, 512]       4,194,816\n",
      "              ReLU-9                  [-1, 512]               0\n",
      "          Dropout-10                  [-1, 512]               0\n",
      "           Linear-11                    [-1, 8]           4,104\n",
      "================================================================\n",
      "Total params: 4,209,064\n",
      "Trainable params: 4,209,064\n",
      "Non-trainable params: 0\n",
      "----------------------------------------------------------------\n",
      "Input size (MB): 0.01\n",
      "Forward/backward pass size (MB): 1.39\n",
      "Params size (MB): 16.06\n",
      "Estimated Total Size (MB): 17.45\n",
      "----------------------------------------------------------------\n"
     ]
    }
   ],
   "source": [
    "from torchsummary import summary\n",
    "summary(model, (3,32,32))"
   ]
  },
  {
   "cell_type": "markdown",
   "id": "0e1ab252-608f-40a1-8918-3134368f5ce8",
   "metadata": {
    "tags": []
   },
   "source": [
    "## Total param and optimizer"
   ]
  },
  {
   "cell_type": "code",
   "execution_count": 10,
   "id": "f1113b2a-0074-44b6-ade3-a7ff175e0702",
   "metadata": {
    "tags": []
   },
   "outputs": [
    {
     "name": "stdout",
     "output_type": "stream",
     "text": [
      "87,205,248 total parameters.\n",
      "87,172,480 training parameters.\n"
     ]
    }
   ],
   "source": [
    "# Total parameters and trainable parameters.\n",
    "total_params = sum(p.numel() for p in model.parameters())\n",
    "print(f\"{total_params:,} total parameters.\")\n",
    "total_trainable_params = sum(\n",
    "    p.numel() for p in model.parameters() if p.requires_grad)\n",
    "print(f\"{total_trainable_params:,} training parameters.\")\n",
    "\n",
    "# Define the loss function and optimizer\n",
    "# loss_fn = nn.CrossEntropyLoss(\n",
    "#     # label_smoothing=0.11 ,\n",
    "#     # weight=class_weights\n",
    "# ).to(device)\n",
    "\n",
    "# loss_fn = nn.CrossEntropyLoss()\n",
    "\n",
    "# optimizer = optim.AdamW(model.parameters(), lr=0.1, weight_decay=1e-8)\n",
    "# optimizer = optim.Adam(model.parameters(), lr=0.001)\n",
    "\n",
    "# optimizer = optim.SGD(model.parameters(), lr=0.1 ,momentum=0.9)\n",
    "# optimizer = optim.SGD(model.parameters(), lr=0.1 ,momentum=0.9, nesterov=True)\n",
    "\n",
    "\n",
    "# scheduler = optim.lr_scheduler.StepLR(optimizer, step_size=3, gamma=0.8)\n",
    "\n",
    "# Move the model to the GPU if available\n",
    "\n",
    "# save_best_model = SaveBestModel()\n",
    "\n",
    "# loss_fn = nn.CrossEntropyLoss()\n",
    "# optimizer = optim.SGD(model.parameters(), lr=0.001, momentum=0.9)\n",
    "\n",
    "# model = model.to(device)"
   ]
  },
  {
   "cell_type": "code",
   "execution_count": 66,
   "id": "794c0c3d-493a-484e-bb1c-308cc117e403",
   "metadata": {},
   "outputs": [],
   "source": [
    "# lora rank 16 has 16520 training param 87,957,376\n",
    "# lora rank 32 has 33032 training param\n",
    "# lora rank 64 has 66056 training param\n",
    "# no lora has 8200 training param"
   ]
  },
  {
   "cell_type": "code",
   "execution_count": 10,
   "id": "08cf89a5-3f0a-40ca-ac22-a11f308c1089",
   "metadata": {
    "tags": []
   },
   "outputs": [
    {
     "name": "stdout",
     "output_type": "stream",
     "text": [
      "1689\n",
      "423\n"
     ]
    }
   ],
   "source": [
    "total=len(train_dataloader)\n",
    "print(total)\n",
    "print(len(val_dataloader))"
   ]
  },
  {
   "cell_type": "markdown",
   "id": "87bf354e-7354-4963-bae8-5a29571bdaf5",
   "metadata": {},
   "source": [
    "# Training "
   ]
  },
  {
   "cell_type": "code",
   "execution_count": 43,
   "id": "2aa88c4c-8dbb-46f4-a0f2-05e49e759306",
   "metadata": {
    "tags": []
   },
   "outputs": [],
   "source": [
    "def multi_acc(y_pred, y_test):\n",
    "    y_pred_softmax = torch.log_softmax(y_pred, dim = 1)\n",
    "    _, y_pred_tags = torch.max(y_pred_softmax, dim = 1)    \n",
    "    \n",
    "    correct_pred = (y_pred_tags == y_test).float()\n",
    "    acc = correct_pred.sum() / len(correct_pred)\n",
    "    \n",
    "    acc = torch.round(acc * 100)\n",
    "    \n",
    "    return acc"
   ]
  },
  {
   "cell_type": "code",
   "execution_count": 28,
   "id": "73d8c017-a2a9-44d5-bda3-10def54185e8",
   "metadata": {
    "tags": []
   },
   "outputs": [],
   "source": [
    "!export 'PYTORCH_CUDA_ALLOC_CONF=max_split_size_mb:512'"
   ]
  },
  {
   "cell_type": "code",
   "execution_count": 11,
   "id": "510df692-78ed-4b88-bff2-9e46460d6fce",
   "metadata": {
    "tags": []
   },
   "outputs": [
    {
     "name": "stdout",
     "output_type": "stream",
     "text": [
      "Feature batch shape: torch.Size([8, 3, 32, 32])\n",
      "Labels batch shape: torch.Size([8])\n"
     ]
    },
    {
     "data": {
      "image/png": "[encoded data removed]",
      "text/plain": [
       "<Figure size 640x480 with 1 Axes>"
      ]
     },
     "metadata": {},
     "output_type": "display_data"
    },
    {
     "name": "stdout",
     "output_type": "stream",
     "text": [
      "Label: 5\n"
     ]
    }
   ],
   "source": [
    "# Display image and label.\n",
    "train_features, train_labels = next(iter(train_dataloader))\n",
    "print(f\"Feature batch shape: {train_features.size()}\")\n",
    "print(f\"Labels batch shape: {train_labels.size()}\")\n",
    "img = train_features[0].squeeze()\n",
    "label = train_labels[0]\n",
    "plt.imshow(img.T, cmap=\"gray\")\n",
    "plt.show()\n",
    "print(f\"Label: {label}\")"
   ]
  },
  {
   "cell_type": "code",
   "execution_count": null,
   "id": "c0c3e2cd-f30f-46c8-a74f-e0f808b77f21",
   "metadata": {
    "tags": []
   },
   "outputs": [
    {
     "name": "stderr",
     "output_type": "stream",
     "text": [
      "Epoch 1/10: 100%|███████████████| 20264/20264 [08:09<00:00, 41.36it/s, loss=nan]\n"
     ]
    },
    {
     "name": "stdout",
     "output_type": "stream",
     "text": [
      "Epoch: 1 | train_loss: nan | train_acc: 0.0342 | test_loss: nan | test_acc: 0.0341\n"
     ]
    },
    {
     "name": "stderr",
     "output_type": "stream",
     "text": [
      "Epoch 2/10:  98%|██████████████▋| 19880/20264 [05:52<00:07, 52.29it/s, loss=nan]IOPub message rate exceeded.\n",
      "The Jupyter server will temporarily stop sending output\n",
      "to the client in order to avoid crashing it.\n",
      "To change this limit, set the config variable\n",
      "`--ServerApp.iopub_msg_rate_limit`.\n",
      "\n",
      "Current values:\n",
      "ServerApp.iopub_msg_rate_limit=1000.0 (msgs/sec)\n",
      "ServerApp.rate_limit_window=3.0 (secs)\n",
      "\n",
      "Epoch 4/10:  99%|██████████████▊| 20080/20264 [06:36<00:03, 47.72it/s, loss=nan]IOPub message rate exceeded.\n",
      "The Jupyter server will temporarily stop sending output\n",
      "to the client in order to avoid crashing it.\n",
      "To change this limit, set the config variable\n",
      "`--ServerApp.iopub_msg_rate_limit`.\n",
      "\n",
      "Current values:\n",
      "ServerApp.iopub_msg_rate_limit=1000.0 (msgs/sec)\n",
      "ServerApp.rate_limit_window=3.0 (secs)\n",
      "\n",
      "Epoch 6/10: 100%|███████████████| 20264/20264 [08:08<00:00, 41.45it/s, loss=nan]\n"
     ]
    },
    {
     "name": "stdout",
     "output_type": "stream",
     "text": [
      "Epoch: 6 | train_loss: nan | train_acc: 0.0342 | test_loss: nan | test_acc: 0.0341\n"
     ]
    },
    {
     "name": "stderr",
     "output_type": "stream",
     "text": [
      "Epoch 7/10:  51%|███████▋       | 10328/20264 [03:09<03:11, 51.93it/s, loss=nan]IOPub message rate exceeded.\n",
      "The Jupyter server will temporarily stop sending output\n",
      "to the client in order to avoid crashing it.\n",
      "To change this limit, set the config variable\n",
      "`--ServerApp.iopub_msg_rate_limit`.\n",
      "\n",
      "Current values:\n",
      "ServerApp.iopub_msg_rate_limit=1000.0 (msgs/sec)\n",
      "ServerApp.rate_limit_window=3.0 (secs)\n",
      "\n",
      "Epoch 9/10:  97%|██████████████▍| 19560/20264 [06:39<00:23, 29.66it/s, loss=nan]"
     ]
    }
   ],
   "source": [
    "scaler = GradScaler()\n",
    "# model = CIFAR10Model()\n",
    "# model = model.to(device)\n",
    "loss_fn = nn.CrossEntropyLoss()\n",
    "# optimizer = optim.SGD(model.parameters(), lr=0.001, momentum=0.9)\n",
    "optimizer = optim.AdamW(model.parameters(), lr=0.1, weight_decay=1e-8)\n",
    "\n",
    " \n",
    "n_epochs = 10\n",
    "for epoch in range(n_epochs):\n",
    "    tq = tqdm(total=len(train_dataloader) * BATCH_SIZE, position=0, leave=True)\n",
    "    tq.set_description('Epoch {}/{}'.format(epoch + 1, n_epochs))\n",
    "    \n",
    "    model.train()\n",
    "    train_loss, train_acc = 0, 0\n",
    "    for inputs, labels in train_dataloader:\n",
    "    # for inputs, labels in train_dataloader:\n",
    "        # forward, backward, and then weight update\n",
    "        inputs, labels = inputs.to(device), labels.to(device)\n",
    "        optimizer.zero_grad()\n",
    "        \n",
    "        with autocast(enabled=True):\n",
    "            y_pred = model.forward(inputs)\n",
    "            loss = loss_fn(y_pred, labels)\n",
    "            train_loss += loss.item() \n",
    "            \n",
    "            \n",
    "        scaler.scale(loss).backward()\n",
    "        scaler.step(optimizer)\n",
    "        scaler.update()\n",
    "        \n",
    "        \n",
    "        # y_pred = model(inputs)\n",
    "        # loss = loss_fn(y_pred, labels)\n",
    "        \n",
    "        \n",
    "        # loss.backward()\n",
    "        # optimizer.step()\n",
    "        \n",
    "        y_pred_class = torch.argmax(torch.softmax(y_pred, dim=1), dim=1)\n",
    "        train_acc += (y_pred_class == labels).sum().item()/len(y_pred)\n",
    "        \n",
    "        tq.update(BATCH_SIZE)\n",
    "        tq.set_postfix(loss='%.6f' % loss)\n",
    " \n",
    "    # Adjust metrics to get average loss and accuracy per batch \n",
    "    train_loss = train_loss / len(train_dataloader)\n",
    "    train_acc = train_acc / len(train_dataloader)\n",
    "    tq.close()\n",
    "\n",
    "    model.eval()\n",
    "    \n",
    "    test_loss, test_acc = 0, 0\n",
    "    \n",
    "    acc = 0\n",
    "    count = 0\n",
    "    val_loss = 0.0\n",
    "    for inputs, labels in val_dataloader:\n",
    "    # for inputs, labels in val_dataloader:\n",
    "        inputs, labels = inputs.to(device), labels.to(device)\n",
    "        \n",
    "        with autocast(enabled=True):\n",
    "            y_pred = model.forward(inputs)\n",
    "            loss = loss_fn(y_pred, labels)\n",
    "            test_loss += loss.item()\n",
    "            \n",
    "        \n",
    "        # y_pred = model(inputs)\n",
    "        # loss = loss_fn(y_pred, labels)\n",
    "        \n",
    "        # Calculate and accumulate accuracy\n",
    "        # test_pred_labels = y_pred.argmax(dim=1)\n",
    "        # test_acc += ((test_pred_labels == labels).item()/len(test_pred_labels))\n",
    "        test_acc += (torch.argmax(y_pred, 1) == labels).float().sum()\n",
    "        count += len(labels)\n",
    "        \n",
    "    test_loss = test_loss / len(val_dataloader)\n",
    "    # test_acc = test_acc / len(val_dataloader)\n",
    "    \n",
    "    test_acc /= count\n",
    "    \n",
    "    \n",
    "    # acc /= count\n",
    "    # val_loss /= count\n",
    "    print(\n",
    "          f\"Epoch: {epoch+1} | \"\n",
    "          f\"train_loss: {train_loss:.4f} | \"\n",
    "          f\"train_acc: {train_acc:.4f} | \"\n",
    "          f\"test_loss: {test_loss:.4f} | \"\n",
    "          f\"test_acc: {test_acc:.4f}\"\n",
    "        )\n",
    "    # print(\"Epoch %d: model accuracy %.2f%%\" % (epoch, acc*100))\n",
    "    # print(\"Epoch %d: model loss %.2f%%\" % (epoch, loss))\n",
    "    \n",
    " \n",
    "torch.save(model.state_dict(), \"cifar10model.pth\")"
   ]
  },
  {
   "cell_type": "code",
   "execution_count": null,
   "id": "60dfa1a2-c5f8-4204-b513-5b120aa1c782",
   "metadata": {
    "tags": []
   },
   "outputs": [],
   "source": [
    "%%time\n",
    "# Loop for training\n",
    "\n",
    "# Training loop\n",
    "num_epochs = 10\n",
    "\n",
    "best_acc = - np.inf   # init to negative infinity\n",
    "best_weights = None\n",
    "train_loss_hist = []\n",
    "train_acc_hist = []\n",
    "val_loss_hist = []\n",
    "val_acc_hist = []\n",
    "\n",
    "# save_best_model = SaveBestModel()\n",
    "for epoch in range(num_epochs):\n",
    "    tq = tqdm(total=len(train_dataloader) * BATCH_SIZE, position=0, leave=True)\n",
    "    tq.set_description('Epoch {}/{}'.format(epoch + 1, num_epochs))\n",
    "    \n",
    "    train_epoch_loss = 0.0\n",
    "    train_epoch_acc = 0.0\n",
    "    \n",
    "    model.train()\n",
    "    for X_train_batch, y_train_batch in train_dataloader:\n",
    "        X_train_batch, y_train_batch = X_train_batch.to(device), y_train_batch.to(device)\n",
    "        optimizer.zero_grad()\n",
    "        \n",
    "        y_train_pred = model(X_train_batch)\n",
    "        \n",
    "        train_loss = criterion(y_train_pred, y_train_batch)\n",
    "        train_acc = multi_acc(y_train_pred, y_train_batch)\n",
    "        \n",
    "        train_loss.backward()\n",
    "        optimizer.step()\n",
    "        \n",
    "        train_epoch_loss += train_loss.item()\n",
    "        train_epoch_acc += train_acc.item()\n",
    "        \n",
    "        tq.update(BATCH_SIZE)\n",
    "        tq.set_postfix(loss='%.6f' % train_loss)\n",
    "\n",
    "    with torch.no_grad():\n",
    "        val_epoch_loss = 0\n",
    "        val_epoch_acc = 0\n",
    "        \n",
    "        tqe = tqdm(total=len(val_dataloader) * BATCH_SIZE, position=0, leave=True)\n",
    "        tqe.set_description('Epoch {}/{}'.format(epoch + 1, num_epochs))\n",
    "        \n",
    "        model.eval()\n",
    "        for X_val_batch, y_val_batch in val_dataloader:\n",
    "            X_val_batch, y_val_batch = X_val_batch.to(device), y_val_batch.to(device)\n",
    "            \n",
    "            y_val_pred = model(X_val_batch)\n",
    "                        \n",
    "            val_loss = criterion(y_val_pred, y_val_batch)\n",
    "            val_acc = multi_acc(y_val_pred, y_val_batch)\n",
    "            \n",
    "            val_epoch_loss += val_loss.item()\n",
    "            val_epoch_acc += val_acc.item()\n",
    "            \n",
    "            tqe.update(BATCH_SIZE)\n",
    "            tqe.set_postfix(loss='%.6f' % val_loss)\n",
    "\n",
    "    val_loss_hist.append(val_epoch_loss)\n",
    "    val_acc_hist.append(val_epoch_acc)\n",
    "    # train_losses.append(np.mean(train_epoch_loss))\n",
    "    # train_accuracies.append(np.mean(train_epoch_acc))\n",
    "    # val_losses.append(val_epoch_loss)\n",
    "    # val_accuracies.append(val_epoch_acc)\n",
    "    \n",
    "    # print(f\"Epoch [{epoch + 1}/{num_epochs}] Train Loss: {train_epoch_loss:.4f} Val Loss: {val_epoch_loss:.4f}\")\n",
    "    \n",
    "    print(f\"Epoch [{epoch + 1}/{num_epochs}] Train Loss: {train_epoch_loss:.4f} Train Acc: {train_epoch_acc:.2f}% Val Loss: {val_epoch_loss:.4f} Val Acc: {val_epoch_acc:.2f}%\")\n",
    "\n",
    "save_model(num_epochs, model, optimizer, loss_fn, 'results', '27032024_15h')\n",
    "\n",
    "# # Plotting Training & Validation Loss\n",
    "# plt.figure(figsize=(12, 4))\n",
    "# plt.subplot(1, 2, 1)\n",
    "# plt.plot(train_losses, '-x', label='Train')\n",
    "# plt.plot(val_losses, '-o', label='Val')\n",
    "# plt.title('Loss vs. No. of epochs')\n",
    "# plt.legend()\n",
    "\n",
    "# # Plotting Training & Validation Accuracy\n",
    "# plt.subplot(1, 2, 2)\n",
    "# plt.plot(train_accuracies, '-x', label='Train')\n",
    "# plt.plot(val_accuracies, '-o', label='Val')\n",
    "# plt.title('Accuracy vs. No. of epochs')\n",
    "# plt.legend()\n",
    "# plt.show()"
   ]
  },
  {
   "cell_type": "code",
   "execution_count": null,
   "id": "14173f73-f227-4219-a5c2-9be1b6479cb5",
   "metadata": {},
   "outputs": [],
   "source": [
    "# copy.deepcopy(model.state_dict())"
   ]
  },
  {
   "cell_type": "code",
   "execution_count": null,
   "id": "38206adf-b3af-451c-b39a-4ed66c3dc8b9",
   "metadata": {
    "tags": []
   },
   "outputs": [],
   "source": [
    "# roc_auc = metrics.roc_auc_score(final_targets, final_outputs, multi_class='ovr')"
   ]
  },
  {
   "cell_type": "markdown",
   "id": "054d97af-0268-42e6-bf0d-b1c761945226",
   "metadata": {},
   "source": [
    "## Performance on Valid/Test Data"
   ]
  },
  {
   "cell_type": "code",
   "execution_count": 72,
   "id": "5c6ac635-75da-45db-8708-44b4ca6bb6a4",
   "metadata": {
    "tags": []
   },
   "outputs": [
    {
     "name": "stderr",
     "output_type": "stream",
     "text": [
      "100%|█████████████████████████████████████████| 159/159 [01:15<00:00,  2.10it/s]\n"
     ]
    },
    {
     "name": "stdout",
     "output_type": "stream",
     "text": [
      "Accuracy: 0.11328202091967633\n",
      "5.0    2575\n",
      "4.0     904\n",
      "1.0     665\n",
      "2.0     525\n",
      "0.0     173\n",
      "6.0     126\n",
      "7.0      51\n",
      "3.0      48\n",
      "Name: count, dtype: int64\n"
     ]
    }
   ],
   "source": [
    "# Performance on Valid/Test Data\n",
    "def overall_accuracy(model, test_loader, criterion):\n",
    "    \n",
    "    '''\n",
    "    Model testing \n",
    "    \n",
    "    Args:\n",
    "        model: model used during training and validation\n",
    "        test_loader: data loader object containing testing data\n",
    "        criterion: loss function used\n",
    "    \n",
    "    Returns:\n",
    "        test_loss: calculated loss during testing\n",
    "        accuracy: calculated accuracy during testing\n",
    "        y_proba: predicted class probabilities\n",
    "        y_truth: ground truth of testing data\n",
    "    '''\n",
    "    \n",
    "    y_proba = []\n",
    "    y_truth = []\n",
    "    test_loss = 0\n",
    "    total = 0\n",
    "    correct = 0\n",
    "    for data in tqdm(test_loader):\n",
    "        # X, y = data[0].to('cpu'), data[1].to('cpu')\n",
    "        X, y = data[0].to(device), data[1].to(device)\n",
    "        \n",
    "        output = model(X)\n",
    "        test_loss += criterion(output, y.long()).item()\n",
    "        for index, i in enumerate(output):\n",
    "            y_proba.append(i[1])\n",
    "            y_truth.append(y[index])\n",
    "            if torch.argmax(i) == y[index]:\n",
    "                correct+=1\n",
    "            total+=1\n",
    "                \n",
    "    accuracy = correct/total\n",
    "    \n",
    "    y_proba_out = np.array([float(y_proba[i]) for i in range(len(y_proba))])\n",
    "    y_truth_out = np.array([float(y_truth[i]) for i in range(len(y_truth))])\n",
    "    \n",
    "    return test_loss, accuracy, y_proba_out, y_truth_out\n",
    "\n",
    "\n",
    "loss, acc, y_proba, y_truth = overall_accuracy(model, val_dataloader, \n",
    "                                               criterion = nn.CrossEntropyLoss())\n",
    "\n",
    "\n",
    "print(f\"Accuracy: {acc}\")\n",
    "\n",
    "print(pd.value_counts(y_truth))"
   ]
  },
  {
   "cell_type": "markdown",
   "id": "32659948-7717-4497-a45d-dd250cbf0711",
   "metadata": {},
   "source": [
    "## Plot ROC curve"
   ]
  },
  {
   "cell_type": "code",
   "execution_count": 83,
   "id": "4fd74246-6625-4d7b-bc3a-bee686c19440",
   "metadata": {
    "tags": []
   },
   "outputs": [
    {
     "data": {
      "text/plain": [
       "329.28403663635254"
      ]
     },
     "execution_count": 83,
     "metadata": {},
     "output_type": "execute_result"
    }
   ],
   "source": []
  },
  {
   "cell_type": "code",
   "execution_count": null,
   "id": "ea19e537-13bb-465a-98ff-894fc9fdc0d8",
   "metadata": {
    "tags": []
   },
   "outputs": [],
   "source": [
    "# Plot ROC curve:\n",
    "\n",
    "def plot_ROCAUC_curve(y_truth, y_proba, fig_size):\n",
    "    \n",
    "    '''\n",
    "    Plots the Receiver Operating Characteristic Curve (ROC) and displays Area Under the Curve (AUC) score.\n",
    "    \n",
    "    Args:\n",
    "        y_truth: ground truth for testing data output\n",
    "        y_proba: class probabilties predicted from model\n",
    "        fig_size: size of the output pyplot figure\n",
    "    \n",
    "    Returns: void\n",
    "    '''\n",
    "    # fpr, tpr, threshold = roc_auc_score(y_truth, y_proba, multi_class='ovr')\n",
    "    fpr, tpr, threshold = roc_curve(y_truth, y_proba,pos_label=1)\n",
    "    auc_score = roc_auc_score(y_truth, y_proba, multi_class='ovr')\n",
    "    txt_box = \"AUC Score: \" + str(round(auc_score, 4))\n",
    "    plt.figure(figsize=fig_size)\n",
    "    plt.plot(fpr, tpr)\n",
    "    plt.plot([0, 1], [0, 1],'--')\n",
    "    plt.annotate(txt_box, xy=(0.65, 0.05), xycoords='axes fraction')\n",
    "    plt.title(\"Receiver Operating Characteristic (ROC) Curve\")\n",
    "    plt.xlabel(\"False Positive Rate (FPR)\")\n",
    "    plt.ylabel(\"True Positive Rate (TPR)\")\n",
    "#     plt.savefig('ROC.png')\n",
    "plot_ROCAUC_curve(y_truth, y_proba, (8, 8))\n",
    "# auc = roc_auc_score(y_truth, y_proba, multi_class='ovr')\n",
    "# print(auc)"
   ]
  },
  {
   "cell_type": "code",
   "execution_count": 89,
   "id": "ae3c3db5-a9b0-4d71-856c-580fd28ea240",
   "metadata": {
    "tags": []
   },
   "outputs": [],
   "source": [
    "def calculate_tpr_fpr(y_real, y_pred):\n",
    "    '''\n",
    "    Calculates the True Positive Rate (tpr) and the True Negative Rate (fpr) based on real and predicted observations\n",
    "    \n",
    "    Args:\n",
    "        y_real: The list or series with the real classes\n",
    "        y_pred: The list or series with the predicted classes\n",
    "        \n",
    "    Returns:\n",
    "        tpr: The True Positive Rate of the classifier\n",
    "        fpr: The False Positive Rate of the classifier\n",
    "    '''\n",
    "    \n",
    "    # Calculates the confusion matrix and recover each element\n",
    "    cm = confusion_matrix(y_real, y_pred)\n",
    "    TN = cm[0, 0]\n",
    "    FP = cm[0, 1]\n",
    "    FN = cm[1, 0]\n",
    "    TP = cm[1, 1]\n",
    "    \n",
    "    # Calculates tpr and fpr\n",
    "    tpr =  TP/(TP + FN) # sensitivity - true positive rate\n",
    "    fpr = 1 - TN/(TN+FP) # 1-specificity - false positive rate\n",
    "    \n",
    "    return tpr, fpr\n",
    "\n",
    "# Tpr, Fpr = calculate_tpr_fpr(y_truth, y_proba)\n"
   ]
  },
  {
   "cell_type": "code",
   "execution_count": 20,
   "id": "112c4c32-47de-48e7-9e56-56234b1d961d",
   "metadata": {
    "collapsed": true,
    "jupyter": {
     "outputs_hidden": true
    },
    "tags": []
   },
   "outputs": [
    {
     "ename": "AttributeError",
     "evalue": "'SwinTransformer' object has no attribute 'predict'",
     "output_type": "error",
     "traceback": [
      "\u001b[0;31m---------------------------------------------------------------------------\u001b[0m",
      "\u001b[0;31mAttributeError\u001b[0m                            Traceback (most recent call last)",
      "Cell \u001b[0;32mIn[20], line 2\u001b[0m\n\u001b[1;32m      1\u001b[0m x, y \u001b[38;5;241m=\u001b[39m \u001b[38;5;28mnext\u001b[39m(\u001b[38;5;28miter\u001b[39m(val_dataloader))\n\u001b[0;32m----> 2\u001b[0m prediction \u001b[38;5;241m=\u001b[39m \u001b[43mmodel\u001b[49m\u001b[38;5;241;43m.\u001b[39;49m\u001b[43mpredict\u001b[49m(x)\n\u001b[1;32m      4\u001b[0m predict_label1 \u001b[38;5;241m=\u001b[39m np\u001b[38;5;241m.\u001b[39margmax(prediction, axis\u001b[38;5;241m=\u001b[39m\u001b[38;5;241m-\u001b[39m\u001b[38;5;241m1\u001b[39m)\n\u001b[1;32m      5\u001b[0m true_label1 \u001b[38;5;241m=\u001b[39m np\u001b[38;5;241m.\u001b[39margmax(y, axis\u001b[38;5;241m=\u001b[39m\u001b[38;5;241m-\u001b[39m\u001b[38;5;241m1\u001b[39m)\n",
      "File \u001b[0;32m~/miniconda3/envs/skin_cancer/lib/python3.9/site-packages/torch/nn/modules/module.py:1614\u001b[0m, in \u001b[0;36mModule.__getattr__\u001b[0;34m(self, name)\u001b[0m\n\u001b[1;32m   1612\u001b[0m     \u001b[38;5;28;01mif\u001b[39;00m name \u001b[38;5;129;01min\u001b[39;00m modules:\n\u001b[1;32m   1613\u001b[0m         \u001b[38;5;28;01mreturn\u001b[39;00m modules[name]\n\u001b[0;32m-> 1614\u001b[0m \u001b[38;5;28;01mraise\u001b[39;00m \u001b[38;5;167;01mAttributeError\u001b[39;00m(\u001b[38;5;124m\"\u001b[39m\u001b[38;5;124m'\u001b[39m\u001b[38;5;132;01m{}\u001b[39;00m\u001b[38;5;124m'\u001b[39m\u001b[38;5;124m object has no attribute \u001b[39m\u001b[38;5;124m'\u001b[39m\u001b[38;5;132;01m{}\u001b[39;00m\u001b[38;5;124m'\u001b[39m\u001b[38;5;124m\"\u001b[39m\u001b[38;5;241m.\u001b[39mformat(\n\u001b[1;32m   1615\u001b[0m     \u001b[38;5;28mtype\u001b[39m(\u001b[38;5;28mself\u001b[39m)\u001b[38;5;241m.\u001b[39m\u001b[38;5;18m__name__\u001b[39m, name))\n",
      "\u001b[0;31mAttributeError\u001b[0m: 'SwinTransformer' object has no attribute 'predict'"
     ]
    }
   ],
   "source": [
    "x, y = next(iter(val_dataloader))\n",
    "prediction = model.predict(x)\n",
    "\n",
    "predict_label1 = np.argmax(prediction, axis=-1)\n",
    "true_label1 = np.argmax(y, axis=-1)\n",
    "\n",
    "y = np.array(true_label1)\n",
    "\n",
    "# scores = np.array(predict_label1)\n",
    "# fpr, tpr, thresholds = metrics.roc_curve(y, scores, pos_label=9)\n",
    "# roc_auc = metrics.auc(fpr, tpr)\n",
    "\n",
    "\n",
    "# plt.figure()\n",
    "# lw = 2\n",
    "# plt.plot(fpr, tpr, color='darkorange',\n",
    "#  lw=lw, label='ROC curve (area = %0.2f)' % roc_auc)\n",
    "# plt.plot([0, 1], [0, 1], color='navy', lw=lw, linestyle='--')\n",
    "# plt.xlim([0.0, 1.0])\n",
    "# plt.ylim([0.0, 1.05])\n",
    "# plt.xlabel('False Positive Rate')\n",
    "# plt.ylabel('True Positive Rate')\n",
    "# plt.title('Receiver operating characteristic (ROC)')\n",
    "# plt.legend(loc=\"lower right\")\n",
    "# plt.show()"
   ]
  }
 ],
 "metadata": {
  "kernelspec": {
   "display_name": "Python 3 (ipykernel)",
   "language": "python",
   "name": "python3"
  },
  "language_info": {
   "codemirror_mode": {
    "name": "ipython",
    "version": 3
   },
   "file_extension": ".py",
   "mimetype": "text/x-python",
   "name": "python",
   "nbconvert_exporter": "python",
   "pygments_lexer": "ipython3",
   "version": "3.9.18"
  },
  "toc-autonumbering": true,
  "toc-showcode": false
 },
 "nbformat": 4,
 "nbformat_minor": 5
}
